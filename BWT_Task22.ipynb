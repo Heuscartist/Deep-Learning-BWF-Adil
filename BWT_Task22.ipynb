{
 "cells": [
  {
   "cell_type": "markdown",
   "id": "bb492004",
   "metadata": {},
   "source": [
    "# BWT - Deep Learning Track\n",
    "## Task#20 : Supervised, Unsupervised, Self-Supervised, and Reinforcement Learning\n",
    "### Adil Mubashir Chaudhry"
   ]
  },
  {
   "cell_type": "markdown",
   "id": "53079b25",
   "metadata": {},
   "source": [
    "## Four Branches of Machine Learning\n",
    "\n",
    "Machine Learning is a vas field with a complex subfield taxonomy. Machine-Learning Algorithms generally fall into four broad categories, described in the following sections.\n",
    "\n",
    "### Supervised Learning\n",
    "\n",
    "This is by far the most common case. It consists of learning to map input data to known targets (also called annotations) given a set of examples. Although supervised learning mostly consists of classification and Regression there are more exotic variants as well including the following:\n",
    " - Sequence Generation\n",
    " - Syntax Tree prediction\n",
    " - Object Detection\n",
    " - Image Segmentation"
   ]
  },
  {
   "cell_type": "markdown",
   "id": "a0d4fd96",
   "metadata": {},
   "source": [
    "### Unsupervised Learning\n",
    "\n",
    "This branch of machine learning consists of finding the interesting transformations of the input data without the help of any targets for the purpopse of data visualizatoin, data compression or data denoising.\n",
    "   - Dimensionality Reduction \n",
    "   - Clustering\n",
    "   \n",
    "are some of the well-known categories of unsupervised learning"
   ]
  },
  {
   "cell_type": "markdown",
   "id": "0ba2994e",
   "metadata": {},
   "source": [
    "### Self-Supervised Learning\n",
    "\n",
    "This is a specific instance of supervisewd learning. This is supervised learning without the human annotated labels. You can think of this as supervised learning withou any humans in the loop. There are labels involved but those are generated from the input data using a heuristic algorithm.\n",
    "\n",
    "Autoencoders are a well-known instance of self-supervised learning, where the generated targets are input, unmodified.\n",
    "\n",
    "\n",
    "### Reinforcement Learning\n",
    "\n",
    "In reinforcement learning, an agent recieves information about its environment and learns to choose actions that will maximize some reward. For instance,  a neural network that looks at a video game screen and outputs a game action in order to maximize its score can be trained via reinforcement learning.\n",
    "\n",
    "Currently, reinforcement learning is mostlyy a research area and hasnt yet a significant practical success beyond games. However, in time it is expected to take ove a large range of real-world applications."
   ]
  },
  {
   "cell_type": "code",
   "execution_count": null,
   "id": "2a97265e",
   "metadata": {},
   "outputs": [],
   "source": []
  }
 ],
 "metadata": {
  "kernelspec": {
   "display_name": "Python 3 (ipykernel)",
   "language": "python",
   "name": "python3"
  },
  "language_info": {
   "codemirror_mode": {
    "name": "ipython",
    "version": 3
   },
   "file_extension": ".py",
   "mimetype": "text/x-python",
   "name": "python",
   "nbconvert_exporter": "python",
   "pygments_lexer": "ipython3",
   "version": "3.9.13"
  }
 },
 "nbformat": 4,
 "nbformat_minor": 5
}
